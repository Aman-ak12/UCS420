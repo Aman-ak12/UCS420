{
 "cells": [
  {
   "cell_type": "code",
   "execution_count": 1,
   "id": "055eacbe-bf9e-432c-b730-ce4c9101f523",
   "metadata": {},
   "outputs": [
    {
     "name": "stdout",
     "output_type": "stream",
     "text": [
      "Addition: [3 4 5 6 7]\n",
      "Multiplication by 2: [ 2  4  6  8 10]\n",
      "Division: [0.5 1.  1.5 2.  2.5]\n"
     ]
    }
   ],
   "source": [
    "import numpy as np\n",
    "arr = np.array([1, 2, 3, 4, 5])\n",
    "\n",
    "arr_add = arr + 2\n",
    "print(\"Addition:\", arr_add)\n",
    "\n",
    "arr_mul = arr * 2\n",
    "print(\"Multiplication by 2:\", arr_mul)\n",
    "\n",
    "\n",
    "arr_div = arr / 2\n",
    "print(\"Division:\", arr_div)\n",
    "\n",
    "\n"
   ]
  },
  {
   "cell_type": "code",
   "execution_count": 5,
   "id": "3241df65-bc56-4621-950b-dca239db33ae",
   "metadata": {},
   "outputs": [
    {
     "name": "stdout",
     "output_type": "stream",
     "text": [
      "Reversed array: [5 4 6 3 2 1]\n",
      "Most frequent value in x: 1\n",
      "Most frequent value in y: 3\n"
     ]
    }
   ],
   "source": [
    "arr = np.array([1, 2, 3, 6, 4, 5])\n",
    "arr_reversed = arr[::-1]\n",
    "print(\"Reversed array:\", arr_reversed)\n",
    "\n",
    "x = np.array([1, 2, 3, 4, 5, 1, 2, 1, 1, 1])\n",
    "y = np.array([1, 1, 1, 2, 3, 4, 2, 4, 3, 3, 3, 3])\n",
    "\n",
    "most_frequent_x = np.bincount(x).argmax()\n",
    "most_frequent_y = np.bincount(y).argmax()\n",
    "\n",
    "print(\"Most frequent value in x:\", most_frequent_x)\n",
    "print(\"Most frequent value in y:\", most_frequent_y)"
   ]
  },
  {
   "cell_type": "code",
   "execution_count": 9,
   "id": "0343df3d-b772-495c-afb8-43ca13a4e2f0",
   "metadata": {},
   "outputs": [
    {
     "name": "stdout",
     "output_type": "stream",
     "text": [
      "Element at (1,2): 20\n",
      "Element at (3, 1): 70\n"
     ]
    }
   ],
   "source": [
    "arr = np.array([[10, 20, 30], [40, 50, 60], [70, 80, 90]])\n",
    "\n",
    "print(\"Element at (1,2):\", arr[0, 1])\n",
    "print(\"Element at (3, 1):\", arr[2, 0])\n"
   ]
  },
  {
   "cell_type": "code",
   "execution_count": 12,
   "id": "1fc7992d-c893-4b01-ac65-12cd405eceb7",
   "metadata": {},
   "outputs": [
    {
     "name": "stdout",
     "output_type": "stream",
     "text": [
      "Array: [ 10.    13.75  17.5   21.25  25.    28.75  32.5   36.25  40.    43.75\n",
      "  47.5   51.25  55.    58.75  62.5   66.25  70.    73.75  77.5   81.25\n",
      "  85.    88.75  92.5   96.25 100.  ]\n",
      "Shape: (25,)\n",
      "Total Elements: 25\n",
      "Data Type: float64\n",
      "Total bytes consumed: 200\n",
      "Transposed using reshape: [[ 10.  ]\n",
      " [ 13.75]\n",
      " [ 17.5 ]\n",
      " [ 21.25]\n",
      " [ 25.  ]\n",
      " [ 28.75]\n",
      " [ 32.5 ]\n",
      " [ 36.25]\n",
      " [ 40.  ]\n",
      " [ 43.75]\n",
      " [ 47.5 ]\n",
      " [ 51.25]\n",
      " [ 55.  ]\n",
      " [ 58.75]\n",
      " [ 62.5 ]\n",
      " [ 66.25]\n",
      " [ 70.  ]\n",
      " [ 73.75]\n",
      " [ 77.5 ]\n",
      " [ 81.25]\n",
      " [ 85.  ]\n",
      " [ 88.75]\n",
      " [ 92.5 ]\n",
      " [ 96.25]\n",
      " [100.  ]]\n"
     ]
    }
   ],
   "source": [
    "name = \"YourName\"\n",
    "\n",
    "arr = np.linspace(10, 100, 25)\n",
    "\n",
    "print(\"Array:\", arr)\n",
    "print(\"Shape:\", arr.shape)\n",
    "print(\"Total Elements:\", arr.size)\n",
    "print(\"Data Type:\", arr.dtype)\n",
    "print(\"Total bytes consumed:\", arr.nbytes)\n",
    "\n",
    "transpose_arr = arr.reshape(-1, 1) \n",
    "print(\"Transposed using reshape:\", transpose_arr)"
   ]
  },
  {
   "cell_type": "code",
   "execution_count": 20,
   "id": "760e42ec-641a-4010-bf3d-5480c67b3d71",
   "metadata": {},
   "outputs": [
    {
     "name": "stdout",
     "output_type": "stream",
     "text": [
      "Mean:  43.333333333333336\n",
      "Median:  37.5\n",
      "Max:  90\n",
      "Min:  10\n",
      "Unique elements:  [10 15 20 30 35 40 50 60 70 80 90]\n",
      "Reshaped (4x3): [[10 20 30]\n",
      " [40 50 60]\n",
      " [70 80 90]\n",
      " [15 20 35]]\n",
      "Resized (2x3): [[10 20 30 40 50 60]\n",
      " [70 80 90 15 20 35]]\n"
     ]
    }
   ],
   "source": [
    "ucs420_aman = np.array([\n",
    "    [10, 20, 30, 40],\n",
    "    [50, 60, 70, 80],\n",
    "    [90, 15, 20, 35]\n",
    "])\n",
    "\n",
    "print(\"Mean: \", np.mean(ucs420_aman))\n",
    "print(\"Median: \", np.median(ucs420_aman))\n",
    "print(\"Max: \", np.max(ucs420_aman))\n",
    "print(\"Min: \", np.min(ucs420_aman))\n",
    "print(\"Unique elements: \", np.unique(ucs420_aman))\n",
    "\n",
    "reshaped_ucs420 = ucs420_aman.reshape(4, 3)\n",
    "print(\"Reshaped (4x3):\", reshaped_ucs420)\n",
    "\n",
    "resized_ucs420 = ucs420_aman.reshape(2, 6)  # 2x3 not possible\n",
    "print(\"Resized (2x3):\", resized_ucs420)"
   ]
  },
  {
   "cell_type": "code",
   "execution_count": null,
   "id": "44f020d2-2903-4284-a6ca-8cf551ee4ae1",
   "metadata": {},
   "outputs": [],
   "source": []
  },
  {
   "cell_type": "code",
   "execution_count": null,
   "id": "267f5fd5-7e20-4ae3-98d8-4fb2addcb763",
   "metadata": {},
   "outputs": [],
   "source": []
  },
  {
   "cell_type": "code",
   "execution_count": null,
   "id": "eb68b79f-b30c-461b-aefa-40af3333d7ee",
   "metadata": {},
   "outputs": [],
   "source": []
  },
  {
   "cell_type": "code",
   "execution_count": null,
   "id": "c98e4b81-b9ae-407a-89d8-ced1fb10f2eb",
   "metadata": {},
   "outputs": [],
   "source": []
  }
 ],
 "metadata": {
  "kernelspec": {
   "display_name": "Python 3 (ipykernel)",
   "language": "python",
   "name": "python3"
  },
  "language_info": {
   "codemirror_mode": {
    "name": "ipython",
    "version": 3
   },
   "file_extension": ".py",
   "mimetype": "text/x-python",
   "name": "python",
   "nbconvert_exporter": "python",
   "pygments_lexer": "ipython3",
   "version": "3.11.7"
  }
 },
 "nbformat": 4,
 "nbformat_minor": 5
}
