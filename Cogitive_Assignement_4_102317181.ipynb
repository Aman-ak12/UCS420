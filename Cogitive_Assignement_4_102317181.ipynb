{
 "cells": [
  {
   "cell_type": "code",
   "execution_count": 2,
   "id": "c11c3132-3fb2-4328-b2e8-6fe5dee967c9",
   "metadata": {},
   "outputs": [
    {
     "ename": "ModuleNotFoundError",
     "evalue": "No module named 'numpy'",
     "output_type": "error",
     "traceback": [
      "\u001b[0;31m---------------------------------------------------------------------------\u001b[0m",
      "\u001b[0;31mModuleNotFoundError\u001b[0m                       Traceback (most recent call last)",
      "Cell \u001b[0;32mIn[2], line 1\u001b[0m\n\u001b[0;32m----> 1\u001b[0m \u001b[38;5;28;01mimport\u001b[39;00m\u001b[38;5;250m \u001b[39m\u001b[38;5;21;01mnumpy\u001b[39;00m\u001b[38;5;250m \u001b[39m\u001b[38;5;28;01mas\u001b[39;00m\u001b[38;5;250m \u001b[39m\u001b[38;5;21;01mnp\u001b[39;00m\n\u001b[1;32m      2\u001b[0m a\u001b[38;5;241m=\u001b[39mnp\u001b[38;5;241m.\u001b[39marray([\u001b[38;5;241m1\u001b[39m,\u001b[38;5;241m2\u001b[39m,\u001b[38;5;241m3\u001b[39m,\u001b[38;5;241m4\u001b[39m,\u001b[38;5;241m5\u001b[39m])\n\u001b[1;32m      3\u001b[0m \u001b[38;5;28mprint\u001b[39m(a\u001b[38;5;241m+\u001b[39m\u001b[38;5;241m2\u001b[39m)\n",
      "\u001b[0;31mModuleNotFoundError\u001b[0m: No module named 'numpy'"
     ]
    }
   ],
   "source": [
    "import numpy as np\n",
    "a=np.array([1,2,3,4,5])\n",
    "print(a+2)\n"
   ]
  },
  {
   "cell_type": "code",
   "execution_count": 2,
   "id": "c21361f8-21ab-4cb3-8748-fcd44d1b168b",
   "metadata": {},
   "outputs": [
    {
     "name": "stdout",
     "output_type": "stream",
     "text": [
      "[ 3  6  9 12 15]\n"
     ]
    }
   ],
   "source": [
    "print(a*3)"
   ]
  },
  {
   "cell_type": "code",
   "execution_count": 3,
   "id": "29ba533f-c709-4275-a3a0-67a0962c603a",
   "metadata": {},
   "outputs": [
    {
     "name": "stdout",
     "output_type": "stream",
     "text": [
      "[0.5 1.  1.5 2.  2.5]\n"
     ]
    }
   ],
   "source": [
    "print(a/2)"
   ]
  },
  {
   "cell_type": "code",
   "execution_count": 4,
   "id": "acb32289-93e5-4505-8a40-f1bd33253d93",
   "metadata": {},
   "outputs": [
    {
     "name": "stdout",
     "output_type": "stream",
     "text": [
      "<class 'numpy.ndarray'>\n"
     ]
    }
   ],
   "source": [
    "b=np.array([1,2,3,6,4,5])\n",
    "r_array=b[::-1]\n",
    "print(type(r_array))"
   ]
  },
  {
   "cell_type": "code",
   "execution_count": 5,
   "id": "272a2b69-d97b-46aa-9f25-dd695172cec0",
   "metadata": {},
   "outputs": [
    {
     "data": {
      "text/plain": [
       "array([5, 4, 6, 3, 2, 1])"
      ]
     },
     "execution_count": 5,
     "metadata": {},
     "output_type": "execute_result"
    }
   ],
   "source": [
    "r_array=np.flip(b)\n",
    "r_array"
   ]
  },
  {
   "cell_type": "code",
   "execution_count": 6,
   "id": "721b9a8c-a035-41fb-9631-031cb23fd2c5",
   "metadata": {},
   "outputs": [
    {
     "name": "stdout",
     "output_type": "stream",
     "text": [
      "[0 5 2 1 1 1]\n",
      "5\n",
      "1\n"
     ]
    }
   ],
   "source": [
    "x=np.array([1,2,3,4,5,1,2,1,1,1])\n",
    "y=np.bincount(x)\n",
    "print(y)\n",
    "m=max(y)\n",
    "print(m)\n",
    "for i in range(len(y)):\n",
    "    if(m==y[i]):\n",
    "        print(i)"
   ]
  },
  {
   "cell_type": "code",
   "execution_count": 7,
   "id": "8f8cb7fc-14b9-4397-8cf4-e364bc568801",
   "metadata": {},
   "outputs": [
    {
     "name": "stdout",
     "output_type": "stream",
     "text": [
      "Most Frequent Value: 1\n",
      "Indices: [0 1 2]\n"
     ]
    }
   ],
   "source": [
    "import numpy as np\n",
    "y=np.array([1,1,1,2,3,4,2,4,3,3])\n",
    "unique,counts=np.unique(y,return_counts=True)\n",
    "most_frequent_value=unique[np.argmax(counts)]\n",
    "indices=np.where(y==most_frequent_value)[0]\n",
    "print(\"Most Frequent Value:\",most_frequent_value)\n",
    "print(\"Indices:\",indices)"
   ]
  },
  {
   "cell_type": "code",
   "execution_count": 8,
   "id": "766eba9c-c2d5-4376-b199-f9ce267f5d81",
   "metadata": {},
   "outputs": [
    {
     "name": "stdout",
     "output_type": "stream",
     "text": [
      "20\n",
      "[10 20 30]\n",
      "[20 50 80]\n",
      "[10 40 70]\n",
      "[70 80 90]\n"
     ]
    }
   ],
   "source": [
    "arr=np.array([[10,20,30],[40,50,60],[70,80,90]])\n",
    "print(arr[0][1])\n",
    "print(arr[0])\n",
    "print(arr[:,1])\n",
    "print(arr[:,0])\n",
    "print(arr[2])"
   ]
  },
  {
   "cell_type": "code",
   "execution_count": 9,
   "id": "f3efa7bb-8966-407a-b4ec-0652635cbc13",
   "metadata": {},
   "outputs": [
    {
     "name": "stdout",
     "output_type": "stream",
     "text": [
      "70\n"
     ]
    }
   ],
   "source": [
    "print(arr[2][0])"
   ]
  },
  {
   "cell_type": "code",
   "execution_count": 10,
   "id": "f6058e02-07cd-48b6-9a91-1da65ba2e20c",
   "metadata": {},
   "outputs": [
    {
     "name": "stdout",
     "output_type": "stream",
     "text": [
      "[ 10.    13.75  17.5   21.25  25.    28.75  32.5   36.25  40.    43.75\n",
      "  47.5   51.25  55.    58.75  62.5   66.25  70.    73.75  77.5   81.25\n",
      "  85.    88.75  92.5   96.25 100.  ]\n",
      "1\n",
      "(25,)\n",
      "25\n",
      "float64\n",
      "200\n",
      "[[ 10.    13.75  17.5   21.25  25.    28.75  32.5   36.25  40.    43.75\n",
      "   47.5   51.25  55.    58.75  62.5   66.25  70.    73.75  77.5   81.25\n",
      "   85.    88.75  92.5   96.25 100.  ]]\n",
      "[ 10.    13.75  17.5   21.25  25.    28.75  32.5   36.25  40.    43.75\n",
      "  47.5   51.25  55.    58.75  62.5   66.25  70.    73.75  77.5   81.25\n",
      "  85.    88.75  92.5   96.25 100.  ]\n",
      "(25,)\n"
     ]
    }
   ],
   "source": [
    "Aman=np.linspace(10,100,25)\n",
    "print(Aman)\n",
    "print(np.ndim(Aman))\n",
    "print(np.shape(Aman))\n",
    "print(len(Aman))\n",
    "print(Aman.dtype)\n",
    "print(Aman.nbytes)\n",
    "print(Aman.reshape(1,25))\n",
    "print(Aman.T)\n",
    "print(np.shape(Aman))"
   ]
  },
  {
   "cell_type": "code",
   "execution_count": 1,
   "id": "83a38fd6-0e0f-438d-ad44-6486fe70339f",
   "metadata": {},
   "outputs": [
    {
     "ename": "NameError",
     "evalue": "name 'np' is not defined",
     "output_type": "error",
     "traceback": [
      "\u001b[0;31m---------------------------------------------------------------------------\u001b[0m",
      "\u001b[0;31mNameError\u001b[0m                                 Traceback (most recent call last)",
      "Cell \u001b[0;32mIn[1], line 1\u001b[0m\n\u001b[0;32m----> 1\u001b[0m ucs420_Aman\u001b[38;5;241m=\u001b[39m\u001b[43mnp\u001b[49m\u001b[38;5;241m.\u001b[39marray([[\u001b[38;5;241m10\u001b[39m,\u001b[38;5;241m20\u001b[39m,\u001b[38;5;241m30\u001b[39m,\u001b[38;5;241m40\u001b[39m],[\u001b[38;5;241m50\u001b[39m,\u001b[38;5;241m60\u001b[39m,\u001b[38;5;241m70\u001b[39m,\u001b[38;5;241m80\u001b[39m],[\u001b[38;5;241m90\u001b[39m,\u001b[38;5;241m15\u001b[39m,\u001b[38;5;241m20\u001b[39m,\u001b[38;5;241m35\u001b[39m]])\n\u001b[1;32m      2\u001b[0m m\u001b[38;5;241m=\u001b[39mnp\u001b[38;5;241m.\u001b[39mmean(ucs420_Aman)\n\u001b[1;32m      3\u001b[0m \u001b[38;5;28mprint\u001b[39m(\u001b[38;5;124m\"\u001b[39m\u001b[38;5;124mMean:\u001b[39m\u001b[38;5;124m\"\u001b[39m,m)\n",
      "\u001b[0;31mNameError\u001b[0m: name 'np' is not defined"
     ]
    }
   ],
   "source": [
    "ucs420_Aman=np.array([[10,20,30,40],[50,60,70,80],[90,15,20,35]])\n",
    "m=np.mean(ucs420_Aman)\n",
    "print(\"Mean:\",m)\n",
    "x=np.median(ucs420_Aman)\n",
    "print(\"Median:\",x)\n",
    "y=np.max(ucs420_Aman)\n",
    "print(\"Max:\",y)\n",
    "z=np.min(ucs420_Aman)\n",
    "print(\"Min:\",z)\n",
    "reshaped_ucs420_Aman=ucs420_Aman.reshape(4,3)\n",
    "print(reshaped_ucs420_Aman)\n",
    "resized_ucs420_Aman=np.resize(reshaped_ucs420_Aman,(2,3))\n",
    "print(resized_ucs420_Aman)"
   ]
  },
  {
   "cell_type": "code",
   "execution_count": null,
   "id": "5d9fcfc2-5b6f-41cd-ae9f-a86aa271c151",
   "metadata": {},
   "outputs": [],
   "source": []
  }
 ],
 "metadata": {
  "kernelspec": {
   "display_name": "Python 3",
   "language": "python",
   "name": "python3"
  },
  "language_info": {
   "codemirror_mode": {
    "name": "ipython",
    "version": 3
   },
   "file_extension": ".py",
   "mimetype": "text/x-python",
   "name": "python",
   "nbconvert_exporter": "python",
   "pygments_lexer": "ipython3",
   "version": "3.9.6"
  }
 },
 "nbformat": 4,
 "nbformat_minor": 5
}
